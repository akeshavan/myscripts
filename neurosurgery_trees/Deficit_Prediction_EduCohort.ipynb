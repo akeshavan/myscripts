{
 "cells": [
  {
   "cell_type": "code",
   "execution_count": 1,
   "metadata": {
    "collapsed": false
   },
   "outputs": [
    {
     "name": "stdout",
     "output_type": "stream",
     "text": [
      "Populating the interactive namespace from numpy and matplotlib\n"
     ]
    }
   ],
   "source": [
    "%pylab inline\n",
    "import scipy.io as sio\n",
    "from sklearn.neighbors import NearestNeighbors\n",
    "from sklearn import svm, grid_search, tree\n",
    "from sklearn.cross_validation import cross_val_predict, cross_val_score\n",
    "from sklearn.cross_validation import train_test_split\n",
    "from sklearn.metrics import confusion_matrix\n",
    "import numpy as np\n",
    "from IPython.display import IFrame\n",
    "import csv\n",
    "import pydot"
   ]
  },
  {
   "cell_type": "code",
   "execution_count": 2,
   "metadata": {
    "collapsed": false
   },
   "outputs": [
    {
     "name": "stdout",
     "output_type": "stream",
     "text": [
      "['pre_motor_def', 'pre_sense_def', 'pre_lang_def', 'pre_vision_def', 'pre_slf2', 'pre_slf3', 'pre_arc', 'pre_slftp', 'pre_ilf', 'pre_mdlf', 'pre_ifof', 'pre_unc', 'pre_cst', 'xtra', 'xtra', 'pre_or', 'short_motor_def', 'short_sense_def', 'short_lang_def', 'short_vision_def', 'short_slf2', 'short_slf3', 'short_arc', 'short_slftp', 'short_ilf', 'short_mdlf', 'short_ifof', 'short_unc', 'short_cst', 'xtra', 'xtra', 'short_or', 'long_motor_def', 'long_sense_def', 'long_lang_def', 'long_vision_def', 'long_slf2', 'long_slf3', 'long_arc', 'long_slftp', 'long_ilf', 'long_mdlf', 'long_ifof', 'long_unc', 'long_cst', 'xtra', 'xtra', 'long_or']\n",
      "(33, 48)\n"
     ]
    }
   ],
   "source": [
    "filename = \"preshortlong_roland_CSTcombo.csv\"\n",
    "data = np.genfromtxt(filename, delimiter=\",\")\n",
    "mytext=[]\n",
    "with open(filename, 'rU') as csvfile:\n",
    "    readit = csv.reader(csvfile, delimiter=\",\", dialect=csv.excel_tab)\n",
    "    for row in readit:\n",
    "        mytext.append(row)\n",
    "classnames = ['no_deficit', 'deficit']\n",
    "featurenames = mytext[0]\n",
    "data = data[1:,:]\n",
    "print featurenames\n",
    "print data.shape"
   ]
  },
  {
   "cell_type": "code",
   "execution_count": 3,
   "metadata": {
    "collapsed": false
   },
   "outputs": [],
   "source": [
    "def doforest(x,y,featurelabels, figname):\n",
    "    from sklearn.ensemble import RandomForestClassifier, ExtraTreesClassifier\n",
    "    from sklearn.cross_validation import cross_val_score\n",
    "    import matplotlib.pyplot as plt\n",
    "    clf = RandomForestClassifier(n_estimators=1000, )\n",
    "    #clf2 = ExtraTreesClassifier(n_estimators=500)\n",
    "    clf_fit = clf.fit(x,y)\n",
    "    scores = cross_val_score(clf,x,y)\n",
    "    meanscore = scores.mean()\n",
    "    importances = clf_fit.feature_importances_\n",
    "    print meanscore\n",
    "    print importances\n",
    "    print featurelabels\n",
    "    std = np.std([tree.feature_importances_ for tree in clf_fit.estimators_],\n",
    "             axis=0)\n",
    "    indices = np.argsort(importances)[::-1]\n",
    "    for f in range(x.shape[1]):\n",
    "        print(\"%d. feature %d = %s (%f)\" % (f + 1, indices[f], featurelabels[indices[f]], importances[indices[f]]))\n",
    "    #plt.figure()\n",
    "    plt.title(\"Feature importances\")\n",
    "    plt.bar(range(x.shape[1]), importances[indices],color=\"r\", yerr=std[indices], align=\"center\")\n",
    "    plt.xticks(range(x.shape[1]), indices)\n",
    "    plt.xlim([-1, x.shape[1]])\n",
    "    #plt.show()\n",
    "    savefig(figname+'.png')\n",
    "    return importances, meanscore"
   ]
  },
  {
   "cell_type": "code",
   "execution_count": 4,
   "metadata": {
    "collapsed": false
   },
   "outputs": [],
   "source": [
    "def dotree(x,y,featurenames,name):\n",
    "    tree_clf = tree.DecisionTreeClassifier()\n",
    "    tree_clf = tree_clf.fit(x,y)\n",
    "    from sklearn.externals.six import StringIO\n",
    "    with open(\"graph.dot\",'w') as f:\n",
    "        f=tree.export_graphviz(tree_clf, out_file=f)\n",
    "\n",
    "    dot_data = StringIO()\n",
    "    tree.export_graphviz(tree_clf, out_file=dot_data, feature_names=featurenames)\n",
    "    graph = pydot.graph_from_dot_data(dot_data.getvalue())\n",
    "    graph.write_pdf(name+\".pdf\")"
   ]
  },
  {
   "cell_type": "code",
   "execution_count": 5,
   "metadata": {
    "collapsed": false
   },
   "outputs": [
    {
     "name": "stdout",
     "output_type": "stream",
     "text": [
      "['pre_slf2', 'pre_slf3', 'pre_arc', 'pre_slftp', 'pre_ilf', 'pre_mdlf', 'pre_ifof', 'pre_unc', 'pre_cst', 'xtra', 'xtra', 'pre_or']\n",
      "['pre_motor_def', 'pre_sense_def', 'pre_lang_def', 'pre_vision_def']\n"
     ]
    }
   ],
   "source": [
    "prex = data[:,4:16]\n",
    "prefeat = featurenames[4:16]\n",
    "\n",
    "prey = data[:,0:4]\n",
    "preylabel = featurenames[0:4]\n",
    "\n",
    "print prefeat\n",
    "print preylabel"
   ]
  },
  {
   "cell_type": "code",
   "execution_count": 6,
   "metadata": {
    "collapsed": false
   },
   "outputs": [
    {
     "name": "stdout",
     "output_type": "stream",
     "text": [
      "['short_slf2', 'short_slf3', 'short_arc', 'short_slftp', 'short_ilf', 'short_mdlf', 'short_ifof', 'short_unc', 'short_cst', 'xtra', 'xtra', 'short_or']\n",
      "['short_motor_def', 'short_sense_def', 'short_lang_def', 'short_vision_def']\n"
     ]
    }
   ],
   "source": [
    "shortx = data[:,20:32]\n",
    "shortfeat = featurenames[20:32]\n",
    "\n",
    "shorty = data[:,16:20]\n",
    "shortylabel = featurenames[16:20]\n",
    "\n",
    "print shortfeat\n",
    "print shortylabel"
   ]
  },
  {
   "cell_type": "code",
   "execution_count": 7,
   "metadata": {
    "collapsed": false
   },
   "outputs": [
    {
     "name": "stdout",
     "output_type": "stream",
     "text": [
      "['long_slf2', 'long_slf3', 'long_arc', 'long_slftp', 'long_ilf', 'long_mdlf', 'long_ifof', 'long_unc', 'long_cst', 'xtra', 'xtra', 'long_or']\n",
      "['long_motor_def', 'long_sense_def', 'long_lang_def', 'long_vision_def']\n"
     ]
    }
   ],
   "source": [
    "longx = data[:,36:]\n",
    "longfeat = featurenames[36:]\n",
    "\n",
    "longy = data[:,32:36]\n",
    "longylabel = featurenames[32:36]\n",
    "\n",
    "print longfeat\n",
    "print longylabel"
   ]
  },
  {
   "cell_type": "code",
   "execution_count": 28,
   "metadata": {
    "collapsed": false
   },
   "outputs": [
    {
     "name": "stdout",
     "output_type": "stream",
     "text": [
      "pre_motor_def\n",
      "5.0\n"
     ]
    }
   ],
   "source": [
    "name = \"preMOTOR\"\n",
    "deficit = 0\n",
    "print preylabel[deficit]\n",
    "dotree(prex, prey[:,deficit],prefeat, name)\n",
    "print sum(prey[:,deficit])\n",
    "#IFrame(name+'.pdf',width=700,height=500)"
   ]
  },
  {
   "cell_type": "code",
   "execution_count": 29,
   "metadata": {
    "collapsed": false
   },
   "outputs": [],
   "source": [
    "#importances, meanaccuracy = doforest(prex, prey[:,0], prefeat, \"preMOTOR_forest\")"
   ]
  },
  {
   "cell_type": "code",
   "execution_count": 9,
   "metadata": {
    "collapsed": false
   },
   "outputs": [
    {
     "name": "stdout",
     "output_type": "stream",
     "text": [
      "pre_sense_def\n",
      "0.0\n"
     ]
    }
   ],
   "source": [
    "name = \"preSENSE\"\n",
    "deficit = 1\n",
    "print preylabel[deficit]\n",
    "dotree(prex, prey[:,deficit],prefeat, name)\n",
    "print sum(prey[:,deficit])\n",
    "#IFrame(name+'.pdf',width=200,height=150)"
   ]
  },
  {
   "cell_type": "code",
   "execution_count": 10,
   "metadata": {
    "collapsed": false
   },
   "outputs": [
    {
     "name": "stdout",
     "output_type": "stream",
     "text": [
      "pre_lang_def\n",
      "3.0\n"
     ]
    },
    {
     "data": {
      "text/html": [
       "\n",
       "        <iframe\n",
       "            width=\"700\"\n",
       "            height=\"500\"\n",
       "            src=\"preLANG.pdf\"\n",
       "            frameborder=\"0\"\n",
       "            allowfullscreen\n",
       "        ></iframe>\n",
       "        "
      ],
      "text/plain": [
       "<IPython.lib.display.IFrame at 0x109035a50>"
      ]
     },
     "execution_count": 10,
     "metadata": {},
     "output_type": "execute_result"
    }
   ],
   "source": [
    "name = \"preLANG\"\n",
    "deficit = 2\n",
    "print preylabel[deficit]\n",
    "dotree(prex, prey[:,deficit],prefeat, name)\n",
    "print sum(prey[:,deficit])\n",
    "IFrame(name+'.pdf',width=700,height=500)"
   ]
  },
  {
   "cell_type": "code",
   "execution_count": 11,
   "metadata": {
    "collapsed": false
   },
   "outputs": [
    {
     "name": "stdout",
     "output_type": "stream",
     "text": [
      "0.909090909091\n",
      "[ 0.06967847  0.06515961  0.14257679  0.25400932  0.03969464  0.14941373\n",
      "  0.1810261   0.04944133]\n",
      "['pre_slf2', 'pre_slf3', 'pre_arc', 'pre_slftp', 'pre_ilf', 'pre_mdlf', 'pre_ifof', 'pre_unc']\n",
      "1. feature 3 = pre_slftp (0.254009)\n",
      "2. feature 6 = pre_ifof (0.181026)\n",
      "3. feature 5 = pre_mdlf (0.149414)\n",
      "4. feature 2 = pre_arc (0.142577)\n",
      "5. feature 0 = pre_slf2 (0.069678)\n",
      "6. feature 1 = pre_slf3 (0.065160)\n",
      "7. feature 7 = pre_unc (0.049441)\n",
      "8. feature 4 = pre_ilf (0.039695)\n"
     ]
    },
    {
     "data": {
      "image/png": "[encoded data removed]",
      "text/plain": [
       "<matplotlib.figure.Figure at 0x108f4b450>"
      ]
     },
     "metadata": {},
     "output_type": "display_data"
    }
   ],
   "source": [
    "importances, meanaccuracy = doforest(prex[:,:-4], prey[:,2], prefeat[:-4], \"preLANGUAGE_forest\")"
   ]
  },
  {
   "cell_type": "code",
   "execution_count": 12,
   "metadata": {
    "collapsed": false
   },
   "outputs": [
    {
     "name": "stdout",
     "output_type": "stream",
     "text": [
      "pre_vision_def\n",
      "2.0\n"
     ]
    }
   ],
   "source": [
    "name = \"preOPTIC\"\n",
    "deficit = 3\n",
    "print preylabel[deficit]\n",
    "dotree(prex, prey[:,deficit],prefeat, name)\n",
    "print sum(prey[:,deficit])\n",
    "#IFrame(name+'.pdf',width=700,height=500)"
   ]
  },
  {
   "cell_type": "code",
   "execution_count": 13,
   "metadata": {
    "collapsed": false
   },
   "outputs": [
    {
     "name": "stdout",
     "output_type": "stream",
     "text": [
      "short_motor_def\n",
      "14.0\n"
     ]
    },
    {
     "data": {
      "text/html": [
       "\n",
       "        <iframe\n",
       "            width=\"700\"\n",
       "            height=\"500\"\n",
       "            src=\"shortMOTOR.pdf\"\n",
       "            frameborder=\"0\"\n",
       "            allowfullscreen\n",
       "        ></iframe>\n",
       "        "
      ],
      "text/plain": [
       "<IPython.lib.display.IFrame at 0x109053790>"
      ]
     },
     "execution_count": 13,
     "metadata": {},
     "output_type": "execute_result"
    }
   ],
   "source": [
    "name = \"shortMOTOR\"\n",
    "deficit = 0\n",
    "print shortylabel[deficit]\n",
    "dotree(shortx, shorty[:,deficit],shortfeat, name)\n",
    "print sum(shorty[:,deficit])\n",
    "IFrame(name+'.pdf',width=700,height=500)"
   ]
  },
  {
   "cell_type": "code",
   "execution_count": 14,
   "metadata": {
    "collapsed": false
   },
   "outputs": [
    {
     "name": "stdout",
     "output_type": "stream",
     "text": [
      "0.844949494949\n",
      "[ 0.10456324  0.06815504  0.08506877  0.04653395  0.02654495  0.05706405\n",
      "  0.18505251  0.05794281  0.3561462   0.          0.          0.01292848]\n",
      "['short_slf2', 'short_slf3', 'short_arc', 'short_slftp', 'short_ilf', 'short_mdlf', 'short_ifof', 'short_unc', 'short_cst', 'xtra', 'xtra', 'short_or']\n",
      "1. feature 8 = short_cst (0.356146)\n",
      "2. feature 6 = short_ifof (0.185053)\n",
      "3. feature 0 = short_slf2 (0.104563)\n",
      "4. feature 2 = short_arc (0.085069)\n",
      "5. feature 1 = short_slf3 (0.068155)\n",
      "6. feature 7 = short_unc (0.057943)\n",
      "7. feature 5 = short_mdlf (0.057064)\n",
      "8. feature 3 = short_slftp (0.046534)\n",
      "9. feature 4 = short_ilf (0.026545)\n",
      "10. feature 11 = short_or (0.012928)\n",
      "11. feature 10 = xtra (0.000000)\n",
      "12. feature 9 = xtra (0.000000)\n"
     ]
    },
    {
     "data": {
      "image/png": "[encoded data removed]",
      "text/plain": [
       "<matplotlib.figure.Figure at 0x109675990>"
      ]
     },
     "metadata": {},
     "output_type": "display_data"
    }
   ],
   "source": [
    "importances, meanaccuracy = doforest(shortx, shorty[:,0], shortfeat, \"shortMOTOR_forest\")"
   ]
  },
  {
   "cell_type": "code",
   "execution_count": 15,
   "metadata": {
    "collapsed": false
   },
   "outputs": [
    {
     "name": "stdout",
     "output_type": "stream",
     "text": [
      "short_sense_def\n",
      "1.0\n"
     ]
    }
   ],
   "source": [
    "name = \"shortSENSE\"\n",
    "deficit = 1\n",
    "print shortylabel[deficit]\n",
    "dotree(shortx, shorty[:,deficit],shortfeat, name)\n",
    "print sum(shorty[:,deficit])\n",
    "#IFrame(name+'.pdf',width=700,height=500)"
   ]
  },
  {
   "cell_type": "code",
   "execution_count": 16,
   "metadata": {
    "collapsed": false
   },
   "outputs": [
    {
     "name": "stdout",
     "output_type": "stream",
     "text": [
      "short_lang_def\n",
      "13.0\n"
     ]
    },
    {
     "data": {
      "text/html": [
       "\n",
       "        <iframe\n",
       "            width=\"700\"\n",
       "            height=\"500\"\n",
       "            src=\"shortLANGUAGE.pdf\"\n",
       "            frameborder=\"0\"\n",
       "            allowfullscreen\n",
       "        ></iframe>\n",
       "        "
      ],
      "text/plain": [
       "<IPython.lib.display.IFrame at 0x103e359d0>"
      ]
     },
     "execution_count": 16,
     "metadata": {},
     "output_type": "execute_result"
    }
   ],
   "source": [
    "name = \"shortLANGUAGE\"\n",
    "deficit = 2\n",
    "print shortylabel[deficit]\n",
    "dotree(shortx, shorty[:,deficit],shortfeat, name)\n",
    "print sum(shorty[:,deficit])\n",
    "IFrame(name+'.pdf',width=700,height=500)"
   ]
  },
  {
   "cell_type": "code",
   "execution_count": 17,
   "metadata": {
    "collapsed": false
   },
   "outputs": [
    {
     "name": "stdout",
     "output_type": "stream",
     "text": [
      "0.545454545455\n",
      "[ 0.1496197   0.12350823  0.12377144  0.13051343  0.10041062  0.08510246\n",
      "  0.16232229  0.12475183]\n",
      "['short_slf2', 'short_slf3', 'short_arc', 'short_slftp', 'short_ilf', 'short_mdlf', 'short_ifof', 'short_unc']\n",
      "1. feature 6 = short_ifof (0.162322)\n",
      "2. feature 0 = short_slf2 (0.149620)\n",
      "3. feature 3 = short_slftp (0.130513)\n",
      "4. feature 7 = short_unc (0.124752)\n",
      "5. feature 2 = short_arc (0.123771)\n",
      "6. feature 1 = short_slf3 (0.123508)\n",
      "7. feature 4 = short_ilf (0.100411)\n",
      "8. feature 5 = short_mdlf (0.085102)\n"
     ]
    },
    {
     "data": {
      "image/png": "[encoded data removed]",
      "text/plain": [
       "<matplotlib.figure.Figure at 0x103e35650>"
      ]
     },
     "metadata": {},
     "output_type": "display_data"
    }
   ],
   "source": [
    "importances, meanaccuracy = doforest(shortx[:,:-4], shorty[:,2], shortfeat[:-4], \"shortLANGUAGE_forest\")"
   ]
  },
  {
   "cell_type": "code",
   "execution_count": 18,
   "metadata": {
    "collapsed": false
   },
   "outputs": [
    {
     "name": "stdout",
     "output_type": "stream",
     "text": [
      "short_vision_def\n",
      "4.0\n"
     ]
    },
    {
     "data": {
      "text/html": [
       "\n",
       "        <iframe\n",
       "            width=\"700\"\n",
       "            height=\"500\"\n",
       "            src=\"shortOPTIC.pdf\"\n",
       "            frameborder=\"0\"\n",
       "            allowfullscreen\n",
       "        ></iframe>\n",
       "        "
      ],
      "text/plain": [
       "<IPython.lib.display.IFrame at 0x109da4a10>"
      ]
     },
     "execution_count": 18,
     "metadata": {},
     "output_type": "execute_result"
    }
   ],
   "source": [
    "name = \"shortOPTIC\"\n",
    "deficit = 3\n",
    "print shortylabel[deficit]\n",
    "dotree(shortx, shorty[:,deficit],shortfeat, name)\n",
    "print sum(shorty[:,deficit])\n",
    "IFrame(name+'.pdf',width=700,height=500)"
   ]
  },
  {
   "cell_type": "code",
   "execution_count": 19,
   "metadata": {
    "collapsed": false
   },
   "outputs": [
    {
     "name": "stdout",
     "output_type": "stream",
     "text": [
      "0.880808080808\n",
      "[ 0.04007987  0.04111787  0.09384192  0.12983414  0.07824919  0.06193195\n",
      "  0.08253828  0.08289717  0.04183006  0.          0.          0.33067955]\n",
      "['short_slf2', 'short_slf3', 'short_arc', 'short_slftp', 'short_ilf', 'short_mdlf', 'short_ifof', 'short_unc', 'short_cst', 'xtra', 'xtra', 'short_or']\n",
      "1. feature 11 = short_or (0.330680)\n",
      "2. feature 3 = short_slftp (0.129834)\n",
      "3. feature 2 = short_arc (0.093842)\n",
      "4. feature 7 = short_unc (0.082897)\n",
      "5. feature 6 = short_ifof (0.082538)\n",
      "6. feature 4 = short_ilf (0.078249)\n",
      "7. feature 5 = short_mdlf (0.061932)\n",
      "8. feature 8 = short_cst (0.041830)\n",
      "9. feature 1 = short_slf3 (0.041118)\n",
      "10. feature 0 = short_slf2 (0.040080)\n",
      "11. feature 10 = xtra (0.000000)\n",
      "12. feature 9 = xtra (0.000000)\n"
     ]
    },
    {
     "data": {
      "image/png": "[encoded data removed]",
      "text/plain": [
       "<matplotlib.figure.Figure at 0x108ec22d0>"
      ]
     },
     "metadata": {},
     "output_type": "display_data"
    }
   ],
   "source": [
    "importances, meanaccuracy = doforest(shortx, shorty[:,3], shortfeat, \"shortOPTIC_forest\")"
   ]
  },
  {
   "cell_type": "code",
   "execution_count": 20,
   "metadata": {
    "collapsed": false
   },
   "outputs": [
    {
     "name": "stdout",
     "output_type": "stream",
     "text": [
      "long_motor_def\n",
      "7.0\n"
     ]
    },
    {
     "data": {
      "text/html": [
       "\n",
       "        <iframe\n",
       "            width=\"700\"\n",
       "            height=\"500\"\n",
       "            src=\"longMOTOR.pdf\"\n",
       "            frameborder=\"0\"\n",
       "            allowfullscreen\n",
       "        ></iframe>\n",
       "        "
      ],
      "text/plain": [
       "<IPython.lib.display.IFrame at 0x1098cab90>"
      ]
     },
     "execution_count": 20,
     "metadata": {},
     "output_type": "execute_result"
    }
   ],
   "source": [
    "name = \"longMOTOR\"\n",
    "deficit = 0\n",
    "print longylabel[deficit]\n",
    "dotree(longx, longy[:,deficit],longfeat, name)\n",
    "print sum(longy[:,deficit])\n",
    "IFrame(name+'.pdf',width=700,height=500)"
   ]
  },
  {
   "cell_type": "code",
   "execution_count": 21,
   "metadata": {
    "collapsed": false
   },
   "outputs": [
    {
     "name": "stdout",
     "output_type": "stream",
     "text": [
      "0.756060606061\n",
      "[ 0.1824864   0.10124996  0.14889876  0.06971986  0.03119058  0.04112061\n",
      "  0.15802482  0.04732524  0.21333799  0.          0.          0.00664577]\n",
      "['long_slf2', 'long_slf3', 'long_arc', 'long_slftp', 'long_ilf', 'long_mdlf', 'long_ifof', 'long_unc', 'long_cst', 'xtra', 'xtra', 'long_or']\n",
      "1. feature 8 = long_cst (0.213338)\n",
      "2. feature 0 = long_slf2 (0.182486)\n",
      "3. feature 6 = long_ifof (0.158025)\n",
      "4. feature 2 = long_arc (0.148899)\n",
      "5. feature 1 = long_slf3 (0.101250)\n",
      "6. feature 3 = long_slftp (0.069720)\n",
      "7. feature 7 = long_unc (0.047325)\n",
      "8. feature 5 = long_mdlf (0.041121)\n",
      "9. feature 4 = long_ilf (0.031191)\n",
      "10. feature 11 = long_or (0.006646)\n",
      "11. feature 10 = xtra (0.000000)\n",
      "12. feature 9 = xtra (0.000000)\n"
     ]
    },
    {
     "data": {
      "image/png": "[encoded data removed]",
      "text/plain": [
       "<matplotlib.figure.Figure at 0x109812e10>"
      ]
     },
     "metadata": {},
     "output_type": "display_data"
    }
   ],
   "source": [
    "importances, meanaccuracy = doforest(longx, longy[:,0], longfeat, \"longMOTOR_forest\")"
   ]
  },
  {
   "cell_type": "code",
   "execution_count": 22,
   "metadata": {
    "collapsed": false
   },
   "outputs": [
    {
     "name": "stdout",
     "output_type": "stream",
     "text": [
      "long_sense_def\n",
      "1.0\n"
     ]
    }
   ],
   "source": [
    "name = \"longSENSE\"\n",
    "deficit = 1\n",
    "print longylabel[deficit]\n",
    "dotree(longx, longy[:,deficit],longfeat, name)\n",
    "print sum(longy[:,deficit])\n",
    "#IFrame(name+'.pdf',width=700,height=500)"
   ]
  },
  {
   "cell_type": "code",
   "execution_count": 23,
   "metadata": {
    "collapsed": false
   },
   "outputs": [
    {
     "name": "stdout",
     "output_type": "stream",
     "text": [
      "long_lang_def\n",
      "7.0\n"
     ]
    },
    {
     "data": {
      "text/html": [
       "\n",
       "        <iframe\n",
       "            width=\"700\"\n",
       "            height=\"500\"\n",
       "            src=\"longLANGUAGE.pdf\"\n",
       "            frameborder=\"0\"\n",
       "            allowfullscreen\n",
       "        ></iframe>\n",
       "        "
      ],
      "text/plain": [
       "<IPython.lib.display.IFrame at 0x10937e2d0>"
      ]
     },
     "execution_count": 23,
     "metadata": {},
     "output_type": "execute_result"
    }
   ],
   "source": [
    "name = \"longLANGUAGE\"\n",
    "deficit = 2\n",
    "print longylabel[deficit]\n",
    "dotree(longx, longy[:,deficit],longfeat, name)\n",
    "print sum(longy[:,deficit])\n",
    "IFrame(name+'.pdf',width=700,height=500)"
   ]
  },
  {
   "cell_type": "code",
   "execution_count": 24,
   "metadata": {
    "collapsed": false
   },
   "outputs": [
    {
     "name": "stdout",
     "output_type": "stream",
     "text": [
      "0.756060606061\n",
      "[ 0.13707907  0.10071902  0.15177426  0.234601    0.05319441  0.10990415\n",
      "  0.14134643  0.07038165]\n",
      "['long_slf2', 'long_slf3', 'long_arc', 'long_slftp', 'long_ilf', 'long_mdlf', 'long_ifof', 'long_unc']\n",
      "1. feature 3 = long_slftp (0.234601)\n",
      "2. feature 2 = long_arc (0.151774)\n",
      "3. feature 6 = long_ifof (0.141346)\n",
      "4. feature 0 = long_slf2 (0.137079)\n",
      "5. feature 5 = long_mdlf (0.109904)\n",
      "6. feature 1 = long_slf3 (0.100719)\n",
      "7. feature 7 = long_unc (0.070382)\n",
      "8. feature 4 = long_ilf (0.053194)\n"
     ]
    },
    {
     "data": {
      "image/png": "[encoded data removed]",
      "text/plain": [
       "<matplotlib.figure.Figure at 0x108e53f90>"
      ]
     },
     "metadata": {},
     "output_type": "display_data"
    }
   ],
   "source": [
    "importances, meanaccuracy = doforest(longx[:,:-4], longy[:,2], longfeat[:-4], \"longLANGUAGE_forest\")"
   ]
  },
  {
   "cell_type": "code",
   "execution_count": 25,
   "metadata": {
    "collapsed": false
   },
   "outputs": [
    {
     "name": "stdout",
     "output_type": "stream",
     "text": [
      "long_vision_def\n",
      "2.0\n"
     ]
    }
   ],
   "source": [
    "name = \"longOPTIC\"\n",
    "deficit = 3\n",
    "print longylabel[deficit]\n",
    "dotree(longx, longy[:,deficit],longfeat, name)\n",
    "print sum(longy[:,deficit])\n",
    "#IFrame(name+'.pdf',width=700,height=500)"
   ]
  },
  {
   "cell_type": "code",
   "execution_count": 26,
   "metadata": {
    "collapsed": false
   },
   "outputs": [],
   "source": [
    "#importances, meanaccuracy = doforest(longx, longy[:,3], longfeat, \"longOPTIC_forest\")"
   ]
  },
  {
   "cell_type": "code",
   "execution_count": null,
   "metadata": {
    "collapsed": true
   },
   "outputs": [],
   "source": []
  },
  {
   "cell_type": "code",
   "execution_count": null,
   "metadata": {
    "collapsed": false,
    "scrolled": true
   },
   "outputs": [],
   "source": []
  },
  {
   "cell_type": "code",
   "execution_count": null,
   "metadata": {
    "collapsed": true
   },
   "outputs": [],
   "source": []
  },
  {
   "cell_type": "code",
   "execution_count": null,
   "metadata": {
    "collapsed": true
   },
   "outputs": [],
   "source": []
  },
  {
   "cell_type": "code",
   "execution_count": null,
   "metadata": {
    "collapsed": true
   },
   "outputs": [],
   "source": []
  }
 ],
 "metadata": {
  "kernelspec": {
   "display_name": "Python 2",
   "language": "python",
   "name": "python2"
  },
  "language_info": {
   "codemirror_mode": {
    "name": "ipython",
    "version": 2
   },
   "file_extension": ".py",
   "mimetype": "text/x-python",
   "name": "python",
   "nbconvert_exporter": "python",
   "pygments_lexer": "ipython2",
   "version": "2.7.11"
  }
 },
 "nbformat": 4,
 "nbformat_minor": 0
}
