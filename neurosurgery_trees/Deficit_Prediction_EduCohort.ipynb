{
 "cells": [
  {
   "cell_type": "code",
   "execution_count": 111,
   "metadata": {
    "collapsed": false
   },
   "outputs": [
    {
     "name": "stdout",
     "output_type": "stream",
     "text": [
      "Populating the interactive namespace from numpy and matplotlib\n"
     ]
    }
   ],
   "source": [
    "%pylab inline\n",
    "import scipy.io as sio\n",
    "from sklearn.neighbors import NearestNeighbors\n",
    "from sklearn import svm, grid_search, tree\n",
    "from sklearn.cross_validation import cross_val_predict, cross_val_score\n",
    "from sklearn.cross_validation import train_test_split\n",
    "from sklearn.metrics import confusion_matrix\n",
    "import numpy as np\n",
    "from IPython.display import IFrame\n",
    "import csv\n",
    "import pydot"
   ]
  },
  {
   "cell_type": "code",
   "execution_count": 112,
   "metadata": {
    "collapsed": false
   },
   "outputs": [
    {
     "name": "stdout",
     "output_type": "stream",
     "text": [
      "['pre_motor_def', 'pre_sense_def', 'pre_lang_def', 'pre_vision_def', 'pre_slf2', 'pre_slf3', 'pre_arc', 'pre_slftp', 'pre_ilf', 'pre_mdlf', 'pre_ifof', 'pre_unc', 'pre_cst', 'xtra', 'xtra', 'pre_or', 'short_motor_def', 'short_sense_def', 'short_lang_def', 'short_vision_def', 'short_slf2', 'short_slf3', 'short_arc', 'short_slftp', 'short_ilf', 'short_mdlf', 'short_ifof', 'short_unc', 'short_cst', 'xtra', 'xtra', 'short_or', 'long_motor_def', 'long_sense_def', 'long_lang_def', 'long_vision_def', 'long_slf2', 'long_slf3', 'long_arc', 'long_slftp', 'long_ilf', 'long_mdlf', 'long_ifof', 'long_unc', 'long_cst', 'xtra', 'xtra', 'long_or']\n",
      "(33, 48)\n"
     ]
    }
   ],
   "source": [
    "filename = \"/Users/kjordan/Desktop/Machine_Learning/ML_Edu_pts/preshortlong_roland_CSTcombo.csv\"\n",
    "data = np.genfromtxt(filename, delimiter=\",\")\n",
    "mytext=[]\n",
    "with open(filename, 'rU') as csvfile:\n",
    "    readit = csv.reader(csvfile, delimiter=\",\", dialect=csv.excel_tab)\n",
    "    for row in readit:\n",
    "        mytext.append(row)\n",
    "classnames = ['no_deficit', 'deficit']\n",
    "featurenames = mytext[0]\n",
    "data = data[1:,:]\n",
    "print featurenames\n",
    "print data.shape"
   ]
  },
  {
   "cell_type": "code",
   "execution_count": 113,
   "metadata": {
    "collapsed": false
   },
   "outputs": [],
   "source": [
    "def doforest(x,y,featurelabels, figname):\n",
    "    from sklearn.ensemble import RandomForestClassifier, ExtraTreesClassifier\n",
    "    from sklearn.cross_validation import cross_val_score\n",
    "    import matplotlib.pyplot as plt\n",
    "    clf = RandomForestClassifier(n_estimators=1000, )\n",
    "    #clf2 = ExtraTreesClassifier(n_estimators=500)\n",
    "    clf_fit = clf.fit(x,y)\n",
    "    scores = cross_val_score(clf,x,y)\n",
    "    meanscore = scores.mean()\n",
    "    importances = clf_fit.feature_importances_\n",
    "    print meanscore\n",
    "    print importances\n",
    "    print featurelabels\n",
    "    std = np.std([tree.feature_importances_ for tree in clf_fit.estimators_],\n",
    "             axis=0)\n",
    "    indices = np.argsort(importances)[::-1]\n",
    "    for f in range(x.shape[1]):\n",
    "        print(\"%d. feature %d = %s (%f)\" % (f + 1, indices[f], featurelabels[indices[f]], importances[indices[f]]))\n",
    "    #plt.figure()\n",
    "    plt.title(\"Feature importances\")\n",
    "    plt.bar(range(x.shape[1]), importances[indices],color=\"r\", yerr=std[indices], align=\"center\")\n",
    "    plt.xticks(range(x.shape[1]), indices)\n",
    "    plt.xlim([-1, x.shape[1]])\n",
    "    #plt.show()\n",
    "    savefig(figname+'.png')\n",
    "    return importances, meanscore"
   ]
  },
  {
   "cell_type": "code",
   "execution_count": 114,
   "metadata": {
    "collapsed": false
   },
   "outputs": [],
   "source": [
    "def dotree(x,y,featurenames,name):\n",
    "    tree_clf = tree.DecisionTreeClassifier()\n",
    "    tree_clf = tree_clf.fit(x,y)\n",
    "    from sklearn.externals.six import StringIO\n",
    "    with open(name+\".dot\",'w') as f:\n",
    "        f=tree.export_graphviz(tree_clf, out_file=f)\n",
    "\n",
    "    dot_data = StringIO()\n",
    "    tree.export_graphviz(tree_clf, out_file=dot_data, feature_names=featurenames)\n",
    "    graph = pydot.graph_from_dot_data(dot_data.getvalue())\n",
    "    graph.write_png(name+\".png\")"
   ]
  },
  {
   "cell_type": "code",
   "execution_count": 115,
   "metadata": {
    "collapsed": false
   },
   "outputs": [
    {
     "name": "stdout",
     "output_type": "stream",
     "text": [
      "['pre_slf2', 'pre_slf3', 'pre_arc', 'pre_slftp', 'pre_ilf', 'pre_mdlf', 'pre_ifof', 'pre_unc', 'pre_cst', 'xtra', 'xtra', 'pre_or']\n",
      "['pre_motor_def', 'pre_sense_def', 'pre_lang_def', 'pre_vision_def']\n"
     ]
    }
   ],
   "source": [
    "prex = data[:,4:16]\n",
    "prefeat = featurenames[4:16]\n",
    "\n",
    "prey = data[:,0:4]\n",
    "preylabel = featurenames[0:4]\n",
    "\n",
    "print prefeat\n",
    "print preylabel"
   ]
  },
  {
   "cell_type": "code",
   "execution_count": 116,
   "metadata": {
    "collapsed": false
   },
   "outputs": [
    {
     "name": "stdout",
     "output_type": "stream",
     "text": [
      "['short_slf2', 'short_slf3', 'short_arc', 'short_slftp', 'short_ilf', 'short_mdlf', 'short_ifof', 'short_unc', 'short_cst', 'xtra', 'xtra', 'short_or']\n",
      "['short_motor_def', 'short_sense_def', 'short_lang_def', 'short_vision_def']\n"
     ]
    }
   ],
   "source": [
    "shortx = data[:,20:32]\n",
    "shortfeat = featurenames[20:32]\n",
    "\n",
    "shorty = data[:,16:20]\n",
    "shortylabel = featurenames[16:20]\n",
    "\n",
    "print shortfeat\n",
    "print shortylabel"
   ]
  },
  {
   "cell_type": "code",
   "execution_count": 117,
   "metadata": {
    "collapsed": false
   },
   "outputs": [
    {
     "name": "stdout",
     "output_type": "stream",
     "text": [
      "['long_slf2', 'long_slf3', 'long_arc', 'long_slftp', 'long_ilf', 'long_mdlf', 'long_ifof', 'long_unc', 'long_cst', 'xtra', 'xtra', 'long_or']\n",
      "['long_motor_def', 'long_sense_def', 'long_lang_def', 'long_vision_def']\n"
     ]
    }
   ],
   "source": [
    "longx = data[:,36:]\n",
    "longfeat = featurenames[36:]\n",
    "\n",
    "longy = data[:,32:36]\n",
    "longylabel = featurenames[32:36]\n",
    "\n",
    "print longfeat\n",
    "print longylabel"
   ]
  },
  {
   "cell_type": "code",
   "execution_count": 118,
   "metadata": {
    "collapsed": false
   },
   "outputs": [
    {
     "name": "stdout",
     "output_type": "stream",
     "text": [
      "pre_motor_def\n",
      "5.0\n"
     ]
    }
   ],
   "source": [
    "name = \"preMOTOR\"\n",
    "deficit = 0\n",
    "print preylabel[deficit]\n",
    "dotree(prex, prey[:,deficit],prefeat, name)\n",
    "print sum(prey[:,deficit])\n",
    "#IFrame(name+'.png',width=700,height=500)"
   ]
  },
  {
   "cell_type": "code",
   "execution_count": 119,
   "metadata": {
    "collapsed": false
   },
   "outputs": [],
   "source": [
    "#importances, meanaccuracy = doforest(prex, prey[:,0], prefeat, \"preMOTOR_forest\")"
   ]
  },
  {
   "cell_type": "code",
   "execution_count": 120,
   "metadata": {
    "collapsed": false
   },
   "outputs": [
    {
     "name": "stdout",
     "output_type": "stream",
     "text": [
      "pre_sense_def\n",
      "0.0\n"
     ]
    }
   ],
   "source": [
    "name = \"preSENSE\"\n",
    "deficit = 1\n",
    "print preylabel[deficit]\n",
    "dotree(prex, prey[:,deficit],prefeat, name)\n",
    "print sum(prey[:,deficit])\n",
    "#IFrame(name+'.png',width=200,height=150)"
   ]
  },
  {
   "cell_type": "code",
   "execution_count": 121,
   "metadata": {
    "collapsed": false
   },
   "outputs": [
    {
     "name": "stdout",
     "output_type": "stream",
     "text": [
      "pre_lang_def\n",
      "3.0\n"
     ]
    },
    {
     "data": {
      "text/html": [
       "\n",
       "        <iframe\n",
       "            width=\"700\"\n",
       "            height=\"500\"\n",
       "            src=\"preLANG.png\"\n",
       "            frameborder=\"0\"\n",
       "            allowfullscreen\n",
       "        ></iframe>\n",
       "        "
      ],
      "text/plain": [
       "<IPython.lib.display.IFrame at 0x109db69d0>"
      ]
     },
     "execution_count": 121,
     "metadata": {},
     "output_type": "execute_result"
    }
   ],
   "source": [
    "name = \"preLANG\"\n",
    "deficit = 2\n",
    "print preylabel[deficit]\n",
    "dotree(prex, prey[:,deficit],prefeat, name)\n",
    "print sum(prey[:,deficit])\n",
    "IFrame(name+'.png',width=700,height=500)"
   ]
  },
  {
   "cell_type": "code",
   "execution_count": 122,
   "metadata": {
    "collapsed": false
   },
   "outputs": [
    {
     "name": "stdout",
     "output_type": "stream",
     "text": [
      "0.909090909091\n",
      "[ 0.07611909  0.07292248  0.12551042  0.25781802  0.04319964  0.16312377\n",
      "  0.17112787  0.04717871]\n",
      "['pre_slf2', 'pre_slf3', 'pre_arc', 'pre_slftp', 'pre_ilf', 'pre_mdlf', 'pre_ifof', 'pre_unc']\n",
      "1. feature 3 = pre_slftp (0.257818)\n",
      "2. feature 6 = pre_ifof (0.171128)\n",
      "3. feature 5 = pre_mdlf (0.163124)\n",
      "4. feature 2 = pre_arc (0.125510)\n",
      "5. feature 0 = pre_slf2 (0.076119)\n",
      "6. feature 1 = pre_slf3 (0.072922)\n",
      "7. feature 7 = pre_unc (0.047179)\n",
      "8. feature 4 = pre_ilf (0.043200)\n"
     ]
    },
    {
     "data": {
      "image/png": "[encoded data removed]",
      "text/plain": [
       "<matplotlib.figure.Figure at 0x1098c7150>"
      ]
     },
     "metadata": {},
     "output_type": "display_data"
    }
   ],
   "source": [
    "importances, meanaccuracy = doforest(prex[:,:-4], prey[:,2], prefeat[:-4], \"preLANGUAGE_forest\")"
   ]
  },
  {
   "cell_type": "code",
   "execution_count": 123,
   "metadata": {
    "collapsed": false
   },
   "outputs": [
    {
     "name": "stdout",
     "output_type": "stream",
     "text": [
      "pre_vision_def\n",
      "2.0\n"
     ]
    }
   ],
   "source": [
    "name = \"preOPTIC\"\n",
    "deficit = 3\n",
    "print preylabel[deficit]\n",
    "dotree(prex, prey[:,deficit],prefeat, name)\n",
    "print sum(prey[:,deficit])\n",
    "#IFrame(name+'.png',width=700,height=500)"
   ]
  },
  {
   "cell_type": "code",
   "execution_count": 124,
   "metadata": {
    "collapsed": false
   },
   "outputs": [
    {
     "name": "stdout",
     "output_type": "stream",
     "text": [
      "short_motor_def\n",
      "14.0\n"
     ]
    },
    {
     "data": {
      "text/html": [
       "\n",
       "        <iframe\n",
       "            width=\"700\"\n",
       "            height=\"500\"\n",
       "            src=\"shortMOTOR.png\"\n",
       "            frameborder=\"0\"\n",
       "            allowfullscreen\n",
       "        ></iframe>\n",
       "        "
      ],
      "text/plain": [
       "<IPython.lib.display.IFrame at 0x109608310>"
      ]
     },
     "execution_count": 124,
     "metadata": {},
     "output_type": "execute_result"
    }
   ],
   "source": [
    "name = \"shortMOTOR\"\n",
    "deficit = 0\n",
    "print shortylabel[deficit]\n",
    "dotree(shortx, shorty[:,deficit],shortfeat, name)\n",
    "print sum(shorty[:,deficit])\n",
    "IFrame(name+'.png',width=700,height=500)"
   ]
  },
  {
   "cell_type": "code",
   "execution_count": 125,
   "metadata": {
    "collapsed": false
   },
   "outputs": [
    {
     "name": "stdout",
     "output_type": "stream",
     "text": [
      "0.844949494949\n",
      "[ 0.10961944  0.07883892  0.08439685  0.04794868  0.02871267  0.05290772\n",
      "  0.1818375   0.06525058  0.33847959  0.          0.          0.01200806]\n",
      "['short_slf2', 'short_slf3', 'short_arc', 'short_slftp', 'short_ilf', 'short_mdlf', 'short_ifof', 'short_unc', 'short_cst', 'xtra', 'xtra', 'short_or']\n",
      "1. feature 8 = short_cst (0.338480)\n",
      "2. feature 6 = short_ifof (0.181837)\n",
      "3. feature 0 = short_slf2 (0.109619)\n",
      "4. feature 2 = short_arc (0.084397)\n",
      "5. feature 1 = short_slf3 (0.078839)\n",
      "6. feature 7 = short_unc (0.065251)\n",
      "7. feature 5 = short_mdlf (0.052908)\n",
      "8. feature 3 = short_slftp (0.047949)\n",
      "9. feature 4 = short_ilf (0.028713)\n",
      "10. feature 11 = short_or (0.012008)\n",
      "11. feature 10 = xtra (0.000000)\n",
      "12. feature 9 = xtra (0.000000)\n"
     ]
    },
    {
     "data": {
      "image/png": "[encoded data removed]",
      "text/plain": [
       "<matplotlib.figure.Figure at 0x1092d5310>"
      ]
     },
     "metadata": {},
     "output_type": "display_data"
    }
   ],
   "source": [
    "importances, meanaccuracy = doforest(shortx, shorty[:,0], shortfeat, \"shortMOTOR_forest\")"
   ]
  },
  {
   "cell_type": "code",
   "execution_count": 126,
   "metadata": {
    "collapsed": false
   },
   "outputs": [
    {
     "name": "stdout",
     "output_type": "stream",
     "text": [
      "short_sense_def\n",
      "1.0\n"
     ]
    }
   ],
   "source": [
    "name = \"shortSENSE\"\n",
    "deficit = 1\n",
    "print shortylabel[deficit]\n",
    "dotree(shortx, shorty[:,deficit],shortfeat, name)\n",
    "print sum(shorty[:,deficit])\n",
    "#IFrame(name+'.png',width=700,height=500)"
   ]
  },
  {
   "cell_type": "code",
   "execution_count": 127,
   "metadata": {
    "collapsed": false
   },
   "outputs": [
    {
     "name": "stdout",
     "output_type": "stream",
     "text": [
      "short_lang_def\n",
      "13.0\n"
     ]
    },
    {
     "data": {
      "text/html": [
       "\n",
       "        <iframe\n",
       "            width=\"700\"\n",
       "            height=\"500\"\n",
       "            src=\"shortLANGUAGE.png\"\n",
       "            frameborder=\"0\"\n",
       "            allowfullscreen\n",
       "        ></iframe>\n",
       "        "
      ],
      "text/plain": [
       "<IPython.lib.display.IFrame at 0x1099f4390>"
      ]
     },
     "execution_count": 127,
     "metadata": {},
     "output_type": "execute_result"
    }
   ],
   "source": [
    "name = \"shortLANGUAGE\"\n",
    "deficit = 2\n",
    "print shortylabel[deficit]\n",
    "dotree(shortx, shorty[:,deficit],shortfeat, name)\n",
    "print sum(shorty[:,deficit])\n",
    "IFrame(name+'.png',width=700,height=500)"
   ]
  },
  {
   "cell_type": "code",
   "execution_count": 128,
   "metadata": {
    "collapsed": false
   },
   "outputs": [
    {
     "name": "stdout",
     "output_type": "stream",
     "text": [
      "0.542929292929\n",
      "[ 0.15009374  0.11926882  0.12268619  0.14111471  0.09983834  0.08016135\n",
      "  0.16390367  0.12293319]\n",
      "['short_slf2', 'short_slf3', 'short_arc', 'short_slftp', 'short_ilf', 'short_mdlf', 'short_ifof', 'short_unc']\n",
      "1. feature 6 = short_ifof (0.163904)\n",
      "2. feature 0 = short_slf2 (0.150094)\n",
      "3. feature 3 = short_slftp (0.141115)\n",
      "4. feature 7 = short_unc (0.122933)\n",
      "5. feature 2 = short_arc (0.122686)\n",
      "6. feature 1 = short_slf3 (0.119269)\n",
      "7. feature 4 = short_ilf (0.099838)\n",
      "8. feature 5 = short_mdlf (0.080161)\n"
     ]
    },
    {
     "data": {
      "image/png": "[encoded data removed]",
      "text/plain": [
       "<matplotlib.figure.Figure at 0x108ff54d0>"
      ]
     },
     "metadata": {},
     "output_type": "display_data"
    }
   ],
   "source": [
    "importances, meanaccuracy = doforest(shortx[:,:-4], shorty[:,2], shortfeat[:-4], \"shortLANGUAGE_forest\")"
   ]
  },
  {
   "cell_type": "code",
   "execution_count": 129,
   "metadata": {
    "collapsed": false
   },
   "outputs": [
    {
     "name": "stdout",
     "output_type": "stream",
     "text": [
      "short_vision_def\n",
      "4.0\n"
     ]
    },
    {
     "data": {
      "text/html": [
       "\n",
       "        <iframe\n",
       "            width=\"700\"\n",
       "            height=\"500\"\n",
       "            src=\"shortOPTIC.png\"\n",
       "            frameborder=\"0\"\n",
       "            allowfullscreen\n",
       "        ></iframe>\n",
       "        "
      ],
      "text/plain": [
       "<IPython.lib.display.IFrame at 0x10965e450>"
      ]
     },
     "execution_count": 129,
     "metadata": {},
     "output_type": "execute_result"
    }
   ],
   "source": [
    "name = \"shortOPTIC\"\n",
    "deficit = 3\n",
    "print shortylabel[deficit]\n",
    "dotree(shortx, shorty[:,deficit],shortfeat, name)\n",
    "print sum(shorty[:,deficit])\n",
    "IFrame(name+'.png',width=700,height=500)"
   ]
  },
  {
   "cell_type": "code",
   "execution_count": 130,
   "metadata": {
    "collapsed": false
   },
   "outputs": [
    {
     "name": "stdout",
     "output_type": "stream",
     "text": [
      "0.880808080808\n",
      "[ 0.03355458  0.03450428  0.09106865  0.14795348  0.09045366  0.059934\n",
      "  0.071532    0.08020895  0.03831419  0.          0.          0.3364762 ]\n",
      "['short_slf2', 'short_slf3', 'short_arc', 'short_slftp', 'short_ilf', 'short_mdlf', 'short_ifof', 'short_unc', 'short_cst', 'xtra', 'xtra', 'short_or']\n",
      "1. feature 11 = short_or (0.336476)\n",
      "2. feature 3 = short_slftp (0.147953)\n",
      "3. feature 2 = short_arc (0.091069)\n",
      "4. feature 4 = short_ilf (0.090454)\n",
      "5. feature 7 = short_unc (0.080209)\n",
      "6. feature 6 = short_ifof (0.071532)\n",
      "7. feature 5 = short_mdlf (0.059934)\n",
      "8. feature 8 = short_cst (0.038314)\n",
      "9. feature 1 = short_slf3 (0.034504)\n",
      "10. feature 0 = short_slf2 (0.033555)\n",
      "11. feature 10 = xtra (0.000000)\n",
      "12. feature 9 = xtra (0.000000)\n"
     ]
    },
    {
     "data": {
      "image/png": "[encoded data removed]",
      "text/plain": [
       "<matplotlib.figure.Figure at 0x108ff5390>"
      ]
     },
     "metadata": {},
     "output_type": "display_data"
    }
   ],
   "source": [
    "importances, meanaccuracy = doforest(shortx, shorty[:,3], shortfeat, \"shortOPTIC_forest\")"
   ]
  },
  {
   "cell_type": "code",
   "execution_count": 131,
   "metadata": {
    "collapsed": false
   },
   "outputs": [
    {
     "name": "stdout",
     "output_type": "stream",
     "text": [
      "long_motor_def\n",
      "7.0\n"
     ]
    },
    {
     "data": {
      "text/html": [
       "\n",
       "        <iframe\n",
       "            width=\"700\"\n",
       "            height=\"500\"\n",
       "            src=\"longMOTOR.png\"\n",
       "            frameborder=\"0\"\n",
       "            allowfullscreen\n",
       "        ></iframe>\n",
       "        "
      ],
      "text/plain": [
       "<IPython.lib.display.IFrame at 0x109272610>"
      ]
     },
     "execution_count": 131,
     "metadata": {},
     "output_type": "execute_result"
    }
   ],
   "source": [
    "name = \"longMOTOR\"\n",
    "deficit = 0\n",
    "print longylabel[deficit]\n",
    "dotree(longx, longy[:,deficit],longfeat, name)\n",
    "print sum(longy[:,deficit])\n",
    "IFrame(name+'.png',width=700,height=500)"
   ]
  },
  {
   "cell_type": "code",
   "execution_count": 132,
   "metadata": {
    "collapsed": false
   },
   "outputs": [
    {
     "name": "stdout",
     "output_type": "stream",
     "text": [
      "0.756060606061\n",
      "[ 0.18384416  0.11080612  0.13854749  0.069744    0.03171636  0.04960923\n",
      "  0.15247053  0.04923787  0.20661269  0.          0.          0.00741157]\n",
      "['long_slf2', 'long_slf3', 'long_arc', 'long_slftp', 'long_ilf', 'long_mdlf', 'long_ifof', 'long_unc', 'long_cst', 'xtra', 'xtra', 'long_or']\n",
      "1. feature 8 = long_cst (0.206613)\n",
      "2. feature 0 = long_slf2 (0.183844)\n",
      "3. feature 6 = long_ifof (0.152471)\n",
      "4. feature 2 = long_arc (0.138547)\n",
      "5. feature 1 = long_slf3 (0.110806)\n",
      "6. feature 3 = long_slftp (0.069744)\n",
      "7. feature 5 = long_mdlf (0.049609)\n",
      "8. feature 7 = long_unc (0.049238)\n",
      "9. feature 4 = long_ilf (0.031716)\n",
      "10. feature 11 = long_or (0.007412)\n",
      "11. feature 10 = xtra (0.000000)\n",
      "12. feature 9 = xtra (0.000000)\n"
     ]
    },
    {
     "data": {
      "image/png": "[encoded data removed]",
      "text/plain": [
       "<matplotlib.figure.Figure at 0x1099d1fd0>"
      ]
     },
     "metadata": {},
     "output_type": "display_data"
    }
   ],
   "source": [
    "importances, meanaccuracy = doforest(longx, longy[:,0], longfeat, \"longMOTOR_forest\")"
   ]
  },
  {
   "cell_type": "code",
   "execution_count": 133,
   "metadata": {
    "collapsed": false
   },
   "outputs": [
    {
     "name": "stdout",
     "output_type": "stream",
     "text": [
      "long_sense_def\n",
      "1.0\n"
     ]
    }
   ],
   "source": [
    "name = \"longSENSE\"\n",
    "deficit = 1\n",
    "print longylabel[deficit]\n",
    "dotree(longx, longy[:,deficit],longfeat, name)\n",
    "print sum(longy[:,deficit])\n",
    "#IFrame(name+'.png',width=700,height=500)"
   ]
  },
  {
   "cell_type": "code",
   "execution_count": 134,
   "metadata": {
    "collapsed": false
   },
   "outputs": [
    {
     "name": "stdout",
     "output_type": "stream",
     "text": [
      "long_lang_def\n",
      "7.0\n"
     ]
    },
    {
     "data": {
      "text/html": [
       "\n",
       "        <iframe\n",
       "            width=\"700\"\n",
       "            height=\"500\"\n",
       "            src=\"longLANGUAGE.png\"\n",
       "            frameborder=\"0\"\n",
       "            allowfullscreen\n",
       "        ></iframe>\n",
       "        "
      ],
      "text/plain": [
       "<IPython.lib.display.IFrame at 0x10998c150>"
      ]
     },
     "execution_count": 134,
     "metadata": {},
     "output_type": "execute_result"
    }
   ],
   "source": [
    "name = \"longLANGUAGE\"\n",
    "deficit = 2\n",
    "print longylabel[deficit]\n",
    "dotree(longx, longy[:,deficit],longfeat, name)\n",
    "print sum(longy[:,deficit])\n",
    "IFrame(name+'.png',width=700,height=500)"
   ]
  },
  {
   "cell_type": "code",
   "execution_count": 135,
   "metadata": {
    "collapsed": false
   },
   "outputs": [
    {
     "name": "stdout",
     "output_type": "stream",
     "text": [
      "0.756060606061\n",
      "[ 0.14150782  0.09771062  0.13995001  0.2342186   0.04992833  0.13185335\n",
      "  0.1381507   0.06668057]\n",
      "['long_slf2', 'long_slf3', 'long_arc', 'long_slftp', 'long_ilf', 'long_mdlf', 'long_ifof', 'long_unc']\n",
      "1. feature 3 = long_slftp (0.234219)\n",
      "2. feature 0 = long_slf2 (0.141508)\n",
      "3. feature 2 = long_arc (0.139950)\n",
      "4. feature 6 = long_ifof (0.138151)\n",
      "5. feature 5 = long_mdlf (0.131853)\n",
      "6. feature 1 = long_slf3 (0.097711)\n",
      "7. feature 7 = long_unc (0.066681)\n",
      "8. feature 4 = long_ilf (0.049928)\n"
     ]
    },
    {
     "data": {
      "image/png": "[encoded data removed]",
      "text/plain": [
       "<matplotlib.figure.Figure at 0x10924a050>"
      ]
     },
     "metadata": {},
     "output_type": "display_data"
    }
   ],
   "source": [
    "importances, meanaccuracy = doforest(longx[:,:-4], longy[:,2], longfeat[:-4], \"longLANGUAGE_forest\")"
   ]
  },
  {
   "cell_type": "code",
   "execution_count": 136,
   "metadata": {
    "collapsed": false
   },
   "outputs": [
    {
     "name": "stdout",
     "output_type": "stream",
     "text": [
      "long_vision_def\n",
      "2.0\n"
     ]
    }
   ],
   "source": [
    "name = \"longOPTIC\"\n",
    "deficit = 3\n",
    "print longylabel[deficit]\n",
    "dotree(longx, longy[:,deficit],longfeat, name)\n",
    "print sum(longy[:,deficit])\n",
    "#IFrame(name+'.png',width=700,height=500)"
   ]
  },
  {
   "cell_type": "code",
   "execution_count": 137,
   "metadata": {
    "collapsed": false
   },
   "outputs": [],
   "source": [
    "#importances, meanaccuracy = doforest(longx, longy[:,3], longfeat, \"longOPTIC_forest\")"
   ]
  },
  {
   "cell_type": "code",
   "execution_count": null,
   "metadata": {
    "collapsed": true
   },
   "outputs": [],
   "source": []
  },
  {
   "cell_type": "code",
   "execution_count": null,
   "metadata": {
    "collapsed": false,
    "scrolled": true
   },
   "outputs": [],
   "source": []
  },
  {
   "cell_type": "code",
   "execution_count": null,
   "metadata": {
    "collapsed": true
   },
   "outputs": [],
   "source": []
  },
  {
   "cell_type": "code",
   "execution_count": null,
   "metadata": {
    "collapsed": true
   },
   "outputs": [],
   "source": []
  },
  {
   "cell_type": "code",
   "execution_count": null,
   "metadata": {
    "collapsed": true
   },
   "outputs": [],
   "source": []
  }
 ],
 "metadata": {
  "kernelspec": {
   "display_name": "Python 2",
   "language": "python",
   "name": "python2"
  },
  "language_info": {
   "codemirror_mode": {
    "name": "ipython",
    "version": 2
   },
   "file_extension": ".py",
   "mimetype": "text/x-python",
   "name": "python",
   "nbconvert_exporter": "python",
   "pygments_lexer": "ipython2",
   "version": "2.7.11"
  }
 },
 "nbformat": 4,
 "nbformat_minor": 0
}
