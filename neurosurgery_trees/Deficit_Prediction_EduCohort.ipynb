{
 "cells": [
  {
   "cell_type": "code",
   "execution_count": 1,
   "metadata": {
    "collapsed": false
   },
   "outputs": [
    {
     "name": "stdout",
     "output_type": "stream",
     "text": [
      "Populating the interactive namespace from numpy and matplotlib\n"
     ]
    }
   ],
   "source": [
    "%pylab inline\n",
    "import scipy.io as sio\n",
    "from sklearn.neighbors import NearestNeighbors\n",
    "from sklearn import svm, grid_search, tree\n",
    "from sklearn.cross_validation import cross_val_predict, cross_val_score\n",
    "from sklearn.cross_validation import train_test_split\n",
    "from sklearn.metrics import confusion_matrix\n",
    "import numpy as np\n",
    "from IPython.display import IFrame\n",
    "import csv\n",
    "import pydot"
   ]
  },
  {
   "cell_type": "code",
   "execution_count": 2,
   "metadata": {
    "collapsed": false
   },
   "outputs": [
    {
     "name": "stdout",
     "output_type": "stream",
     "text": [
      "['pre_motor_def', 'pre_sense_def', 'pre_lang_def', 'pre_vision_def', 'pre_slf2', 'pre_slf3', 'pre_arc', 'pre_slftp', 'pre_ilf', 'pre_mdlf', 'pre_ifof', 'pre_unc', 'pre_cstface', 'pre_csthand', 'pre_cstfoot', 'pre_or', 'short_motor_def', 'short_sense_def', 'short_lang_def', 'short_vision_def', 'short_slf2', 'short_slf3', 'short_arc', 'short_slftp', 'short_ilf', 'short_mdlf', 'short_ifof', 'short_unc', 'short_cstface', 'short_csthand', 'short_cstfoot', 'short_or', 'long_motor_def', 'long_sense_def', 'long_lang_def', 'long_vision_def', 'long_slf2', 'long_slf3', 'long_arc', 'long_slftp', 'long_ilf', 'long_mdlf', 'long_ifof', 'long_unc', 'long_cstface', 'long_csthand', 'long_cstfoot', 'long_or']\n",
      "(33, 48)\n"
     ]
    }
   ],
   "source": [
    "filename = \"preshortlong_roland.csv\"\n",
    "data = np.genfromtxt(filename, delimiter=\",\")\n",
    "mytext=[]\n",
    "with open(filename, 'rU') as csvfile:\n",
    "    readit = csv.reader(csvfile, delimiter=\",\", dialect=csv.excel_tab)\n",
    "    for row in readit:\n",
    "        mytext.append(row)\n",
    "classnames = ['no_deficit', 'deficit']\n",
    "featurenames = mytext[0]\n",
    "data = data[1:,:]\n",
    "print featurenames\n",
    "print data.shape"
   ]
  },
  {
   "cell_type": "code",
   "execution_count": null,
   "metadata": {
    "collapsed": false
   },
   "outputs": [],
   "source": []
  },
  {
   "cell_type": "code",
   "execution_count": 3,
   "metadata": {
    "collapsed": false
   },
   "outputs": [],
   "source": [
    "def dotree(x,y,featurenames,name):\n",
    "    tree_clf = tree.DecisionTreeClassifier()\n",
    "    tree_clf = tree_clf.fit(x,y)\n",
    "    from sklearn.externals.six import StringIO\n",
    "    with open(\"graph.dot\",'w') as f:\n",
    "        f=tree.export_graphviz(tree_clf, out_file=f)\n",
    "\n",
    "    dot_data = StringIO()\n",
    "    tree.export_graphviz(tree_clf, out_file=dot_data, feature_names=featurenames)\n",
    "    graph = pydot.graph_from_dot_data(dot_data.getvalue())\n",
    "    graph.write_pdf(name+\".pdf\")"
   ]
  },
  {
   "cell_type": "code",
   "execution_count": 4,
   "metadata": {
    "collapsed": false
   },
   "outputs": [
    {
     "name": "stdout",
     "output_type": "stream",
     "text": [
      "['pre_slf2', 'pre_slf3', 'pre_arc', 'pre_slftp', 'pre_ilf', 'pre_mdlf', 'pre_ifof', 'pre_unc', 'pre_cstface', 'pre_csthand', 'pre_cstfoot', 'pre_or']\n",
      "['pre_motor_def', 'pre_sense_def', 'pre_lang_def', 'pre_vision_def']\n"
     ]
    }
   ],
   "source": [
    "prex = data[:,4:16]\n",
    "prefeat = featurenames[4:16]\n",
    "\n",
    "prey = data[:,0:4]\n",
    "preylabel = featurenames[0:4]\n",
    "\n",
    "print prefeat\n",
    "print preylabel"
   ]
  },
  {
   "cell_type": "code",
   "execution_count": 5,
   "metadata": {
    "collapsed": false
   },
   "outputs": [
    {
     "name": "stdout",
     "output_type": "stream",
     "text": [
      "['short_slf2', 'short_slf3', 'short_arc', 'short_slftp', 'short_ilf', 'short_mdlf', 'short_ifof', 'short_unc', 'short_cstface', 'short_csthand', 'short_cstfoot', 'short_or']\n",
      "['short_motor_def', 'short_sense_def', 'short_lang_def', 'short_vision_def']\n"
     ]
    }
   ],
   "source": [
    "shortx = data[:,20:32]\n",
    "shortfeat = featurenames[20:32]\n",
    "\n",
    "shorty = data[:,16:20]\n",
    "shortylabel = featurenames[16:20]\n",
    "\n",
    "print shortfeat\n",
    "print shortylabel"
   ]
  },
  {
   "cell_type": "code",
   "execution_count": 6,
   "metadata": {
    "collapsed": false
   },
   "outputs": [
    {
     "name": "stdout",
     "output_type": "stream",
     "text": [
      "['long_slf2', 'long_slf3', 'long_arc', 'long_slftp', 'long_ilf', 'long_mdlf', 'long_ifof', 'long_unc', 'long_cstface', 'long_csthand', 'long_cstfoot', 'long_or']\n",
      "['long_motor_def', 'long_sense_def', 'long_lang_def', 'long_vision_def']\n"
     ]
    }
   ],
   "source": [
    "longx = data[:,36:]\n",
    "longfeat = featurenames[36:]\n",
    "\n",
    "longy = data[:,32:36]\n",
    "longylabel = featurenames[32:36]\n",
    "\n",
    "print longfeat\n",
    "print longylabel"
   ]
  },
  {
   "cell_type": "code",
   "execution_count": 7,
   "metadata": {
    "collapsed": false
   },
   "outputs": [
    {
     "name": "stdout",
     "output_type": "stream",
     "text": [
      "pre_motor_def\n",
      "5.0\n"
     ]
    },
    {
     "data": {
      "text/html": [
       "\n",
       "        <iframe\n",
       "            width=\"700\"\n",
       "            height=\"500\"\n",
       "            src=\"preMOTOR.pdf\"\n",
       "            frameborder=\"0\"\n",
       "            allowfullscreen\n",
       "        ></iframe>\n",
       "        "
      ],
      "text/plain": [
       "<IPython.lib.display.IFrame at 0x108657510>"
      ]
     },
     "execution_count": 7,
     "metadata": {},
     "output_type": "execute_result"
    }
   ],
   "source": [
    "name = \"preMOTOR\"\n",
    "deficit = 0\n",
    "print preylabel[deficit]\n",
    "dotree(prex, prey[:,deficit],prefeat, name)\n",
    "print sum(prey[:,deficit])\n",
    "IFrame(name+'.pdf',width=700,height=500)"
   ]
  },
  {
   "cell_type": "code",
   "execution_count": 8,
   "metadata": {
    "collapsed": false
   },
   "outputs": [
    {
     "name": "stdout",
     "output_type": "stream",
     "text": [
      "pre_sense_def\n",
      "0.0\n"
     ]
    },
    {
     "data": {
      "text/html": [
       "\n",
       "        <iframe\n",
       "            width=\"200\"\n",
       "            height=\"150\"\n",
       "            src=\"preSENSE.pdf\"\n",
       "            frameborder=\"0\"\n",
       "            allowfullscreen\n",
       "        ></iframe>\n",
       "        "
      ],
      "text/plain": [
       "<IPython.lib.display.IFrame at 0x10894bc50>"
      ]
     },
     "execution_count": 8,
     "metadata": {},
     "output_type": "execute_result"
    }
   ],
   "source": [
    "name = \"preSENSE\"\n",
    "deficit = 1\n",
    "print preylabel[deficit]\n",
    "dotree(prex, prey[:,deficit],prefeat, name)\n",
    "print sum(prey[:,deficit])\n",
    "IFrame(name+'.pdf',width=200,height=150)"
   ]
  },
  {
   "cell_type": "code",
   "execution_count": 9,
   "metadata": {
    "collapsed": false
   },
   "outputs": [
    {
     "name": "stdout",
     "output_type": "stream",
     "text": [
      "pre_lang_def\n",
      "3.0\n"
     ]
    },
    {
     "data": {
      "text/html": [
       "\n",
       "        <iframe\n",
       "            width=\"700\"\n",
       "            height=\"500\"\n",
       "            src=\"preLANG.pdf\"\n",
       "            frameborder=\"0\"\n",
       "            allowfullscreen\n",
       "        ></iframe>\n",
       "        "
      ],
      "text/plain": [
       "<IPython.lib.display.IFrame at 0x1086758d0>"
      ]
     },
     "execution_count": 9,
     "metadata": {},
     "output_type": "execute_result"
    }
   ],
   "source": [
    "name = \"preLANG\"\n",
    "deficit = 2\n",
    "print preylabel[deficit]\n",
    "dotree(prex, prey[:,deficit],prefeat, name)\n",
    "print sum(prey[:,deficit])\n",
    "IFrame(name+'.pdf',width=700,height=500)"
   ]
  },
  {
   "cell_type": "code",
   "execution_count": 10,
   "metadata": {
    "collapsed": false
   },
   "outputs": [
    {
     "name": "stdout",
     "output_type": "stream",
     "text": [
      "pre_vision_def\n",
      "2.0\n"
     ]
    },
    {
     "data": {
      "text/html": [
       "\n",
       "        <iframe\n",
       "            width=\"700\"\n",
       "            height=\"500\"\n",
       "            src=\"preOPTIC.pdf\"\n",
       "            frameborder=\"0\"\n",
       "            allowfullscreen\n",
       "        ></iframe>\n",
       "        "
      ],
      "text/plain": [
       "<IPython.lib.display.IFrame at 0x1088308d0>"
      ]
     },
     "execution_count": 10,
     "metadata": {},
     "output_type": "execute_result"
    }
   ],
   "source": [
    "name = \"preOPTIC\"\n",
    "deficit = 3\n",
    "print preylabel[deficit]\n",
    "dotree(prex, prey[:,deficit],prefeat, name)\n",
    "print sum(prey[:,deficit])\n",
    "IFrame(name+'.pdf',width=700,height=500)"
   ]
  },
  {
   "cell_type": "code",
   "execution_count": 11,
   "metadata": {
    "collapsed": false
   },
   "outputs": [
    {
     "name": "stdout",
     "output_type": "stream",
     "text": [
      "short_motor_def\n",
      "14.0\n"
     ]
    },
    {
     "data": {
      "text/html": [
       "\n",
       "        <iframe\n",
       "            width=\"700\"\n",
       "            height=\"500\"\n",
       "            src=\"shortMOTOR.pdf\"\n",
       "            frameborder=\"0\"\n",
       "            allowfullscreen\n",
       "        ></iframe>\n",
       "        "
      ],
      "text/plain": [
       "<IPython.lib.display.IFrame at 0x108931bd0>"
      ]
     },
     "execution_count": 11,
     "metadata": {},
     "output_type": "execute_result"
    }
   ],
   "source": [
    "name = \"shortMOTOR\"\n",
    "deficit = 0\n",
    "print shortylabel[deficit]\n",
    "dotree(shortx, shorty[:,deficit],shortfeat, name)\n",
    "print sum(shorty[:,deficit])\n",
    "IFrame(name+'.pdf',width=700,height=500)"
   ]
  },
  {
   "cell_type": "code",
   "execution_count": 12,
   "metadata": {
    "collapsed": false
   },
   "outputs": [
    {
     "name": "stdout",
     "output_type": "stream",
     "text": [
      "short_sense_def\n",
      "1.0\n"
     ]
    },
    {
     "data": {
      "text/html": [
       "\n",
       "        <iframe\n",
       "            width=\"700\"\n",
       "            height=\"500\"\n",
       "            src=\"shortSENSE.pdf\"\n",
       "            frameborder=\"0\"\n",
       "            allowfullscreen\n",
       "        ></iframe>\n",
       "        "
      ],
      "text/plain": [
       "<IPython.lib.display.IFrame at 0x108c7e750>"
      ]
     },
     "execution_count": 12,
     "metadata": {},
     "output_type": "execute_result"
    }
   ],
   "source": [
    "name = \"shortSENSE\"\n",
    "deficit = 1\n",
    "print shortylabel[deficit]\n",
    "dotree(shortx, shorty[:,deficit],shortfeat, name)\n",
    "print sum(shorty[:,deficit])\n",
    "IFrame(name+'.pdf',width=700,height=500)"
   ]
  },
  {
   "cell_type": "code",
   "execution_count": 13,
   "metadata": {
    "collapsed": false
   },
   "outputs": [
    {
     "name": "stdout",
     "output_type": "stream",
     "text": [
      "short_lang_def\n",
      "13.0\n"
     ]
    },
    {
     "data": {
      "text/html": [
       "\n",
       "        <iframe\n",
       "            width=\"700\"\n",
       "            height=\"500\"\n",
       "            src=\"shortLANGUAGE.pdf\"\n",
       "            frameborder=\"0\"\n",
       "            allowfullscreen\n",
       "        ></iframe>\n",
       "        "
      ],
      "text/plain": [
       "<IPython.lib.display.IFrame at 0x108a7b510>"
      ]
     },
     "execution_count": 13,
     "metadata": {},
     "output_type": "execute_result"
    }
   ],
   "source": [
    "name = \"shortLANGUAGE\"\n",
    "deficit = 2\n",
    "print shortylabel[deficit]\n",
    "dotree(shortx, shorty[:,deficit],shortfeat, name)\n",
    "print sum(shorty[:,deficit])\n",
    "IFrame(name+'.pdf',width=700,height=500)"
   ]
  },
  {
   "cell_type": "code",
   "execution_count": 14,
   "metadata": {
    "collapsed": false
   },
   "outputs": [
    {
     "name": "stdout",
     "output_type": "stream",
     "text": [
      "short_vision_def\n",
      "4.0\n"
     ]
    },
    {
     "data": {
      "text/html": [
       "\n",
       "        <iframe\n",
       "            width=\"700\"\n",
       "            height=\"500\"\n",
       "            src=\"shortOPTIC.pdf\"\n",
       "            frameborder=\"0\"\n",
       "            allowfullscreen\n",
       "        ></iframe>\n",
       "        "
      ],
      "text/plain": [
       "<IPython.lib.display.IFrame at 0x1088afe10>"
      ]
     },
     "execution_count": 14,
     "metadata": {},
     "output_type": "execute_result"
    }
   ],
   "source": [
    "name = \"shortOPTIC\"\n",
    "deficit = 3\n",
    "print shortylabel[deficit]\n",
    "dotree(shortx, shorty[:,deficit],shortfeat, name)\n",
    "print sum(shorty[:,deficit])\n",
    "IFrame(name+'.pdf',width=700,height=500)"
   ]
  },
  {
   "cell_type": "code",
   "execution_count": 15,
   "metadata": {
    "collapsed": false
   },
   "outputs": [
    {
     "name": "stdout",
     "output_type": "stream",
     "text": [
      "long_motor_def\n",
      "7.0\n"
     ]
    },
    {
     "data": {
      "text/html": [
       "\n",
       "        <iframe\n",
       "            width=\"700\"\n",
       "            height=\"500\"\n",
       "            src=\"longMOTOR.pdf\"\n",
       "            frameborder=\"0\"\n",
       "            allowfullscreen\n",
       "        ></iframe>\n",
       "        "
      ],
      "text/plain": [
       "<IPython.lib.display.IFrame at 0x108a61c50>"
      ]
     },
     "execution_count": 15,
     "metadata": {},
     "output_type": "execute_result"
    }
   ],
   "source": [
    "name = \"longMOTOR\"\n",
    "deficit = 0\n",
    "print longylabel[deficit]\n",
    "dotree(longx, longy[:,deficit],longfeat, name)\n",
    "print sum(longy[:,deficit])\n",
    "IFrame(name+'.pdf',width=700,height=500)"
   ]
  },
  {
   "cell_type": "code",
   "execution_count": 16,
   "metadata": {
    "collapsed": false
   },
   "outputs": [
    {
     "name": "stdout",
     "output_type": "stream",
     "text": [
      "long_sense_def\n",
      "1.0\n"
     ]
    },
    {
     "data": {
      "text/html": [
       "\n",
       "        <iframe\n",
       "            width=\"700\"\n",
       "            height=\"500\"\n",
       "            src=\"longSENSE.pdf\"\n",
       "            frameborder=\"0\"\n",
       "            allowfullscreen\n",
       "        ></iframe>\n",
       "        "
      ],
      "text/plain": [
       "<IPython.lib.display.IFrame at 0x10875d7d0>"
      ]
     },
     "execution_count": 16,
     "metadata": {},
     "output_type": "execute_result"
    }
   ],
   "source": [
    "name = \"longSENSE\"\n",
    "deficit = 1\n",
    "print longylabel[deficit]\n",
    "dotree(longx, longy[:,deficit],longfeat, name)\n",
    "print sum(longy[:,deficit])\n",
    "IFrame(name+'.pdf',width=700,height=500)"
   ]
  },
  {
   "cell_type": "code",
   "execution_count": 17,
   "metadata": {
    "collapsed": false
   },
   "outputs": [
    {
     "name": "stdout",
     "output_type": "stream",
     "text": [
      "long_lang_def\n",
      "7.0\n"
     ]
    },
    {
     "data": {
      "text/html": [
       "\n",
       "        <iframe\n",
       "            width=\"700\"\n",
       "            height=\"500\"\n",
       "            src=\"longLANGUAGE.pdf\"\n",
       "            frameborder=\"0\"\n",
       "            allowfullscreen\n",
       "        ></iframe>\n",
       "        "
      ],
      "text/plain": [
       "<IPython.lib.display.IFrame at 0x108d6a510>"
      ]
     },
     "execution_count": 17,
     "metadata": {},
     "output_type": "execute_result"
    }
   ],
   "source": [
    "name = \"longLANGUAGE\"\n",
    "deficit = 2\n",
    "print longylabel[deficit]\n",
    "dotree(longx, longy[:,deficit],longfeat, name)\n",
    "print sum(longy[:,deficit])\n",
    "IFrame(name+'.pdf',width=700,height=500)"
   ]
  },
  {
   "cell_type": "code",
   "execution_count": 18,
   "metadata": {
    "collapsed": false
   },
   "outputs": [
    {
     "name": "stdout",
     "output_type": "stream",
     "text": [
      "long_vision_def\n",
      "2.0\n"
     ]
    },
    {
     "data": {
      "text/html": [
       "\n",
       "        <iframe\n",
       "            width=\"700\"\n",
       "            height=\"500\"\n",
       "            src=\"longOPTIC.pdf\"\n",
       "            frameborder=\"0\"\n",
       "            allowfullscreen\n",
       "        ></iframe>\n",
       "        "
      ],
      "text/plain": [
       "<IPython.lib.display.IFrame at 0x108d5fb90>"
      ]
     },
     "execution_count": 18,
     "metadata": {},
     "output_type": "execute_result"
    }
   ],
   "source": [
    "name = \"longOPTIC\"\n",
    "deficit = 3\n",
    "print longylabel[deficit]\n",
    "dotree(longx, longy[:,deficit],longfeat, name)\n",
    "print sum(longy[:,deficit])\n",
    "IFrame(name+'.pdf',width=700,height=500)"
   ]
  },
  {
   "cell_type": "code",
   "execution_count": null,
   "metadata": {
    "collapsed": true
   },
   "outputs": [],
   "source": []
  },
  {
   "cell_type": "code",
   "execution_count": null,
   "metadata": {
    "collapsed": false,
    "scrolled": true
   },
   "outputs": [],
   "source": []
  },
  {
   "cell_type": "code",
   "execution_count": null,
   "metadata": {
    "collapsed": true
   },
   "outputs": [],
   "source": []
  },
  {
   "cell_type": "code",
   "execution_count": null,
   "metadata": {
    "collapsed": true
   },
   "outputs": [],
   "source": []
  },
  {
   "cell_type": "code",
   "execution_count": null,
   "metadata": {
    "collapsed": true
   },
   "outputs": [],
   "source": []
  }
 ],
 "metadata": {
  "kernelspec": {
   "display_name": "Python 2",
   "language": "python",
   "name": "python2"
  },
  "language_info": {
   "codemirror_mode": {
    "name": "ipython",
    "version": 2
   },
   "file_extension": ".py",
   "mimetype": "text/x-python",
   "name": "python",
   "nbconvert_exporter": "python",
   "pygments_lexer": "ipython2",
   "version": "2.7.11"
  }
 },
 "nbformat": 4,
 "nbformat_minor": 0
}
